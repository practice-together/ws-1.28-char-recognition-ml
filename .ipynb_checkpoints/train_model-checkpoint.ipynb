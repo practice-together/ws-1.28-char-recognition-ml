{
 "cells": [
  {
   "cell_type": "markdown",
   "id": "e671298c-30ac-4621-8620-e38941a2707e",
   "metadata": {},
   "source": [
    "## ESP32 Touch-Based Character Recognition - Model Training\n",
    "\n",
    "This code implements a machine learning system for recognizing hand-drawn characters on an ESP32 device with a touch screen.\n",
    "\n",
    "\n",
    "### Visualizing the touch samples"
   ]
  },
  {
   "cell_type": "code",
   "execution_count": 2,
   "id": "cec13bbc-6f4e-45d0-b36f-266676273510",
   "metadata": {},
   "outputs": [
    {
     "data": {
      "image/png": "[encoded data removed]",
      "text/plain": [
       "<Figure size 3000x300 with 10 Axes>"
      ]
     },
     "metadata": {},
     "output_type": "display_data"
    }
   ],
   "source": [
    "import os\n",
    "import json\n",
    "import numpy as np\n",
    "from PIL import Image, ImageDraw\n",
    "import matplotlib.pyplot as plt\n",
    "\n",
    "# Parameters\n",
    "TARGET_SIZE = 32     # Target size matching the model input\n",
    "ORIGINAL_SIZE = 240  # Original touchscreen size\n",
    "DATA_DIR = \"touch_samples\"\n",
    "CLASS = \"B\"\n",
    "\n",
    "def load_sample(file_path, original_size=ORIGINAL_SIZE, target_size=TARGET_SIZE):\n",
    "    \"\"\"\n",
    "    Loads a JSON file containing touch points and converts them to a 32x32 image,\n",
    "    matching the model's input dimensions.\n",
    "    \"\"\"\n",
    "    with open(file_path, 'r') as f:\n",
    "        data = json.load(f)\n",
    "    \n",
    "    # Extract points as (x, y) tuples\n",
    "    points = [(point[\"x\"], point[\"y\"]) for point in data if \"x\" in point and \"y\" in point]\n",
    "    if not points:\n",
    "        return np.zeros((target_size, target_size), dtype=np.uint8)\n",
    "    \n",
    "    # Scale factor matching the ESP32 code (31.0f / 240.0f)\n",
    "    scale = 31.0 / ORIGINAL_SIZE\n",
    "    scaled_points = [(p[0] * scale, p[1] * scale) for p in points]\n",
    "    \n",
    "    # Scale up to actual pixel coordinates in 32x32 space\n",
    "    image_points = [(p[0] * (target_size/31.0), p[1] * (target_size/31.0)) for p in scaled_points]\n",
    "    \n",
    "    # Create a blank grayscale image\n",
    "    img = Image.new('L', (target_size, target_size), 0)\n",
    "    draw = ImageDraw.Draw(img)\n",
    "    \n",
    "    # Calculate appropriate line width for 32x32 grid\n",
    "    # We want lines to be visible but not too thick in the small grid\n",
    "    line_width = max(1, int(target_size / 32))\n",
    "    \n",
    "    if len(image_points) > 1:\n",
    "        # Draw lines between points\n",
    "        draw.line(image_points, fill=255, width=line_width)\n",
    "    else:\n",
    "        # Draw a single point\n",
    "        x, y = image_points[0]\n",
    "        radius = line_width / 2\n",
    "        draw.ellipse((x - radius, y - radius, x + radius, y + radius), fill=255)\n",
    "    \n",
    "    return np.array(img)\n",
    "\n",
    "def visualize_samples():\n",
    "    # List all JSON sample files in the chosen class folder\n",
    "    class_folder = os.path.join(DATA_DIR, CLASS)\n",
    "    sample_files = [f for f in os.listdir(class_folder) if f.endswith('.json')]\n",
    "    \n",
    "    # Sort files to ensure consistent order\n",
    "    sample_files.sort()\n",
    "    \n",
    "    # Visualize each generated image\n",
    "    num_samples = len(sample_files)\n",
    "    fig, axes = plt.subplots(1, num_samples, figsize=(3 * num_samples, 3))\n",
    "    \n",
    "    if num_samples == 1:\n",
    "        axes = [axes]  # Ensure axes is iterable when only one sample exists\n",
    "    \n",
    "    for ax, file_name in zip(axes, sample_files):\n",
    "        file_path = os.path.join(class_folder, file_name)\n",
    "        img = load_sample(file_path)\n",
    "        ax.imshow(img, cmap='gray')\n",
    "        ax.set_title(f'{CLASS}: {file_name}')\n",
    "        ax.axis('off')\n",
    "        \n",
    "        # Add grid lines to show the 32x32 divisions\n",
    "        for i in range(0, 33, 4):\n",
    "            ax.axhline(y=i-0.5, color='r', linestyle='-', alpha=0.1)\n",
    "            ax.axvline(x=i-0.5, color='r', linestyle='-', alpha=0.1)\n",
    "    \n",
    "    plt.tight_layout()\n",
    "    plt.show()\n",
    "\n",
    "# Run the visualization\n",
    "visualize_samples()"
   ]
  },
  {
   "cell_type": "markdown",
   "id": "aacc1d5f-d575-4b02-9b6b-3ede25dd4cdc",
   "metadata": {},
   "source": [
    "### Training the Model"
   ]
  },
  {
   "cell_type": "code",
   "execution_count": 13,
   "id": "4709e4bf-ad50-4acb-933f-eabb4389fe75",
   "metadata": {
    "scrolled": true
   },
   "outputs": [
    {
     "name": "stdout",
     "output_type": "stream",
     "text": [
      "Dataset loaded:\n",
      "X shape: (50, 32, 32, 1)\n",
      "y shape: (50,)\n"
     ]
    },
    {
     "data": {
      "text/html": [
       "<pre style=\"white-space:pre;overflow-x:auto;line-height:normal;font-family:Menlo,'DejaVu Sans Mono',consolas,'Courier New',monospace\"><span style=\"font-weight: bold\">Model: \"sequential_3\"</span>\n",
       "</pre>\n"
      ],
      "text/plain": [
       "\u001b[1mModel: \"sequential_3\"\u001b[0m\n"
      ]
     },
     "metadata": {},
     "output_type": "display_data"
    },
    {
     "data": {
      "text/html": [
       "<pre style=\"white-space:pre;overflow-x:auto;line-height:normal;font-family:Menlo,'DejaVu Sans Mono',consolas,'Courier New',monospace\">┏━━━━━━━━━━━━━━━━━━━━━━━━━━━━━━━━━┳━━━━━━━━━━━━━━━━━━━━━━━━┳━━━━━━━━━━━━━━━┓\n",
       "┃<span style=\"font-weight: bold\"> Layer (type)                    </span>┃<span style=\"font-weight: bold\"> Output Shape           </span>┃<span style=\"font-weight: bold\">       Param # </span>┃\n",
       "┡━━━━━━━━━━━━━━━━━━━━━━━━━━━━━━━━━╇━━━━━━━━━━━━━━━━━━━━━━━━╇━━━━━━━━━━━━━━━┩\n",
       "│ conv2d_2 (<span style=\"color: #0087ff; text-decoration-color: #0087ff\">Conv2D</span>)               │ (<span style=\"color: #00d7ff; text-decoration-color: #00d7ff\">None</span>, <span style=\"color: #00af00; text-decoration-color: #00af00\">32</span>, <span style=\"color: #00af00; text-decoration-color: #00af00\">32</span>, <span style=\"color: #00af00; text-decoration-color: #00af00\">8</span>)      │            <span style=\"color: #00af00; text-decoration-color: #00af00\">80</span> │\n",
       "├─────────────────────────────────┼────────────────────────┼───────────────┤\n",
       "│ max_pooling2d_2 (<span style=\"color: #0087ff; text-decoration-color: #0087ff\">MaxPooling2D</span>)  │ (<span style=\"color: #00d7ff; text-decoration-color: #00d7ff\">None</span>, <span style=\"color: #00af00; text-decoration-color: #00af00\">16</span>, <span style=\"color: #00af00; text-decoration-color: #00af00\">16</span>, <span style=\"color: #00af00; text-decoration-color: #00af00\">8</span>)      │             <span style=\"color: #00af00; text-decoration-color: #00af00\">0</span> │\n",
       "├─────────────────────────────────┼────────────────────────┼───────────────┤\n",
       "│ conv2d_3 (<span style=\"color: #0087ff; text-decoration-color: #0087ff\">Conv2D</span>)               │ (<span style=\"color: #00d7ff; text-decoration-color: #00d7ff\">None</span>, <span style=\"color: #00af00; text-decoration-color: #00af00\">16</span>, <span style=\"color: #00af00; text-decoration-color: #00af00\">16</span>, <span style=\"color: #00af00; text-decoration-color: #00af00\">16</span>)     │         <span style=\"color: #00af00; text-decoration-color: #00af00\">1,168</span> │\n",
       "├─────────────────────────────────┼────────────────────────┼───────────────┤\n",
       "│ max_pooling2d_3 (<span style=\"color: #0087ff; text-decoration-color: #0087ff\">MaxPooling2D</span>)  │ (<span style=\"color: #00d7ff; text-decoration-color: #00d7ff\">None</span>, <span style=\"color: #00af00; text-decoration-color: #00af00\">8</span>, <span style=\"color: #00af00; text-decoration-color: #00af00\">8</span>, <span style=\"color: #00af00; text-decoration-color: #00af00\">16</span>)       │             <span style=\"color: #00af00; text-decoration-color: #00af00\">0</span> │\n",
       "├─────────────────────────────────┼────────────────────────┼───────────────┤\n",
       "│ flatten_3 (<span style=\"color: #0087ff; text-decoration-color: #0087ff\">Flatten</span>)             │ (<span style=\"color: #00d7ff; text-decoration-color: #00d7ff\">None</span>, <span style=\"color: #00af00; text-decoration-color: #00af00\">1024</span>)           │             <span style=\"color: #00af00; text-decoration-color: #00af00\">0</span> │\n",
       "├─────────────────────────────────┼────────────────────────┼───────────────┤\n",
       "│ dense_8 (<span style=\"color: #0087ff; text-decoration-color: #0087ff\">Dense</span>)                 │ (<span style=\"color: #00d7ff; text-decoration-color: #00d7ff\">None</span>, <span style=\"color: #00af00; text-decoration-color: #00af00\">32</span>)             │        <span style=\"color: #00af00; text-decoration-color: #00af00\">32,800</span> │\n",
       "├─────────────────────────────────┼────────────────────────┼───────────────┤\n",
       "│ dense_9 (<span style=\"color: #0087ff; text-decoration-color: #0087ff\">Dense</span>)                 │ (<span style=\"color: #00d7ff; text-decoration-color: #00d7ff\">None</span>, <span style=\"color: #00af00; text-decoration-color: #00af00\">5</span>)              │           <span style=\"color: #00af00; text-decoration-color: #00af00\">165</span> │\n",
       "└─────────────────────────────────┴────────────────────────┴───────────────┘\n",
       "</pre>\n"
      ],
      "text/plain": [
       "┏━━━━━━━━━━━━━━━━━━━━━━━━━━━━━━━━━┳━━━━━━━━━━━━━━━━━━━━━━━━┳━━━━━━━━━━━━━━━┓\n",
       "┃\u001b[1m \u001b[0m\u001b[1mLayer (type)                   \u001b[0m\u001b[1m \u001b[0m┃\u001b[1m \u001b[0m\u001b[1mOutput Shape          \u001b[0m\u001b[1m \u001b[0m┃\u001b[1m \u001b[0m\u001b[1m      Param #\u001b[0m\u001b[1m \u001b[0m┃\n",
       "┡━━━━━━━━━━━━━━━━━━━━━━━━━━━━━━━━━╇━━━━━━━━━━━━━━━━━━━━━━━━╇━━━━━━━━━━━━━━━┩\n",
       "│ conv2d_2 (\u001b[38;5;33mConv2D\u001b[0m)               │ (\u001b[38;5;45mNone\u001b[0m, \u001b[38;5;34m32\u001b[0m, \u001b[38;5;34m32\u001b[0m, \u001b[38;5;34m8\u001b[0m)      │            \u001b[38;5;34m80\u001b[0m │\n",
       "├─────────────────────────────────┼────────────────────────┼───────────────┤\n",
       "│ max_pooling2d_2 (\u001b[38;5;33mMaxPooling2D\u001b[0m)  │ (\u001b[38;5;45mNone\u001b[0m, \u001b[38;5;34m16\u001b[0m, \u001b[38;5;34m16\u001b[0m, \u001b[38;5;34m8\u001b[0m)      │             \u001b[38;5;34m0\u001b[0m │\n",
       "├─────────────────────────────────┼────────────────────────┼───────────────┤\n",
       "│ conv2d_3 (\u001b[38;5;33mConv2D\u001b[0m)               │ (\u001b[38;5;45mNone\u001b[0m, \u001b[38;5;34m16\u001b[0m, \u001b[38;5;34m16\u001b[0m, \u001b[38;5;34m16\u001b[0m)     │         \u001b[38;5;34m1,168\u001b[0m │\n",
       "├─────────────────────────────────┼────────────────────────┼───────────────┤\n",
       "│ max_pooling2d_3 (\u001b[38;5;33mMaxPooling2D\u001b[0m)  │ (\u001b[38;5;45mNone\u001b[0m, \u001b[38;5;34m8\u001b[0m, \u001b[38;5;34m8\u001b[0m, \u001b[38;5;34m16\u001b[0m)       │             \u001b[38;5;34m0\u001b[0m │\n",
       "├─────────────────────────────────┼────────────────────────┼───────────────┤\n",
       "│ flatten_3 (\u001b[38;5;33mFlatten\u001b[0m)             │ (\u001b[38;5;45mNone\u001b[0m, \u001b[38;5;34m1024\u001b[0m)           │             \u001b[38;5;34m0\u001b[0m │\n",
       "├─────────────────────────────────┼────────────────────────┼───────────────┤\n",
       "│ dense_8 (\u001b[38;5;33mDense\u001b[0m)                 │ (\u001b[38;5;45mNone\u001b[0m, \u001b[38;5;34m32\u001b[0m)             │        \u001b[38;5;34m32,800\u001b[0m │\n",
       "├─────────────────────────────────┼────────────────────────┼───────────────┤\n",
       "│ dense_9 (\u001b[38;5;33mDense\u001b[0m)                 │ (\u001b[38;5;45mNone\u001b[0m, \u001b[38;5;34m5\u001b[0m)              │           \u001b[38;5;34m165\u001b[0m │\n",
       "└─────────────────────────────────┴────────────────────────┴───────────────┘\n"
      ]
     },
     "metadata": {},
     "output_type": "display_data"
    },
    {
     "data": {
      "text/html": [
       "<pre style=\"white-space:pre;overflow-x:auto;line-height:normal;font-family:Menlo,'DejaVu Sans Mono',consolas,'Courier New',monospace\"><span style=\"font-weight: bold\"> Total params: </span><span style=\"color: #00af00; text-decoration-color: #00af00\">34,213</span> (133.64 KB)\n",
       "</pre>\n"
      ],
      "text/plain": [
       "\u001b[1m Total params: \u001b[0m\u001b[38;5;34m34,213\u001b[0m (133.64 KB)\n"
      ]
     },
     "metadata": {},
     "output_type": "display_data"
    },
    {
     "data": {
      "text/html": [
       "<pre style=\"white-space:pre;overflow-x:auto;line-height:normal;font-family:Menlo,'DejaVu Sans Mono',consolas,'Courier New',monospace\"><span style=\"font-weight: bold\"> Trainable params: </span><span style=\"color: #00af00; text-decoration-color: #00af00\">34,213</span> (133.64 KB)\n",
       "</pre>\n"
      ],
      "text/plain": [
       "\u001b[1m Trainable params: \u001b[0m\u001b[38;5;34m34,213\u001b[0m (133.64 KB)\n"
      ]
     },
     "metadata": {},
     "output_type": "display_data"
    },
    {
     "data": {
      "text/html": [
       "<pre style=\"white-space:pre;overflow-x:auto;line-height:normal;font-family:Menlo,'DejaVu Sans Mono',consolas,'Courier New',monospace\"><span style=\"font-weight: bold\"> Non-trainable params: </span><span style=\"color: #00af00; text-decoration-color: #00af00\">0</span> (0.00 B)\n",
       "</pre>\n"
      ],
      "text/plain": [
       "\u001b[1m Non-trainable params: \u001b[0m\u001b[38;5;34m0\u001b[0m (0.00 B)\n"
      ]
     },
     "metadata": {},
     "output_type": "display_data"
    },
    {
     "name": "stdout",
     "output_type": "stream",
     "text": [
      "Epoch 1/40\n",
      "\u001b[1m2/2\u001b[0m \u001b[32m━━━━━━━━━━━━━━━━━━━━\u001b[0m\u001b[37m\u001b[0m \u001b[1m1s\u001b[0m 210ms/step - accuracy: 0.1521 - loss: 1.6085 - val_accuracy: 0.0000e+00 - val_loss: 1.6260\n",
      "Epoch 2/40\n",
      "\u001b[1m2/2\u001b[0m \u001b[32m━━━━━━━━━━━━━━━━━━━━\u001b[0m\u001b[37m\u001b[0m \u001b[1m0s\u001b[0m 70ms/step - accuracy: 0.2667 - loss: 1.5584 - val_accuracy: 0.0000e+00 - val_loss: 1.6138\n",
      "Epoch 3/40\n",
      "\u001b[1m2/2\u001b[0m \u001b[32m━━━━━━━━━━━━━━━━━━━━\u001b[0m\u001b[37m\u001b[0m \u001b[1m0s\u001b[0m 72ms/step - accuracy: 0.2667 - loss: 1.5165 - val_accuracy: 0.0000e+00 - val_loss: 1.5942\n",
      "Epoch 4/40\n",
      "\u001b[1m2/2\u001b[0m \u001b[32m━━━━━━━━━━━━━━━━━━━━\u001b[0m\u001b[37m\u001b[0m \u001b[1m0s\u001b[0m 66ms/step - accuracy: 0.2667 - loss: 1.4770 - val_accuracy: 0.0000e+00 - val_loss: 1.5704\n",
      "Epoch 5/40\n",
      "\u001b[1m2/2\u001b[0m \u001b[32m━━━━━━━━━━━━━━━━━━━━\u001b[0m\u001b[37m\u001b[0m \u001b[1m0s\u001b[0m 69ms/step - accuracy: 0.3104 - loss: 1.4369 - val_accuracy: 0.0000e+00 - val_loss: 1.5506\n",
      "Epoch 6/40\n",
      "\u001b[1m2/2\u001b[0m \u001b[32m━━━━━━━━━━━━━━━━━━━━\u001b[0m\u001b[37m\u001b[0m \u001b[1m0s\u001b[0m 71ms/step - accuracy: 0.3375 - loss: 1.3853 - val_accuracy: 0.0000e+00 - val_loss: 1.5259\n",
      "Epoch 7/40\n",
      "\u001b[1m2/2\u001b[0m \u001b[32m━━━━━━━━━━━━━━━━━━━━\u001b[0m\u001b[37m\u001b[0m \u001b[1m0s\u001b[0m 75ms/step - accuracy: 0.3750 - loss: 1.3340 - val_accuracy: 0.2000 - val_loss: 1.4893\n",
      "Epoch 8/40\n",
      "\u001b[1m2/2\u001b[0m \u001b[32m━━━━━━━━━━━━━━━━━━━━\u001b[0m\u001b[37m\u001b[0m \u001b[1m0s\u001b[0m 66ms/step - accuracy: 0.4396 - loss: 1.2773 - val_accuracy: 0.3000 - val_loss: 1.4432\n",
      "Epoch 9/40\n",
      "\u001b[1m2/2\u001b[0m \u001b[32m━━━━━━━━━━━━━━━━━━━━\u001b[0m\u001b[37m\u001b[0m \u001b[1m0s\u001b[0m 68ms/step - accuracy: 0.5333 - loss: 1.2405 - val_accuracy: 0.3000 - val_loss: 1.3854\n",
      "Epoch 10/40\n",
      "\u001b[1m2/2\u001b[0m \u001b[32m━━━━━━━━━━━━━━━━━━━━\u001b[0m\u001b[37m\u001b[0m \u001b[1m0s\u001b[0m 71ms/step - accuracy: 0.6188 - loss: 1.1608 - val_accuracy: 0.4000 - val_loss: 1.3218\n",
      "Epoch 11/40\n",
      "\u001b[1m2/2\u001b[0m \u001b[32m━━━━━━━━━━━━━━━━━━━━\u001b[0m\u001b[37m\u001b[0m \u001b[1m0s\u001b[0m 79ms/step - accuracy: 0.6521 - loss: 1.1098 - val_accuracy: 0.6000 - val_loss: 1.2512\n",
      "Epoch 12/40\n",
      "\u001b[1m2/2\u001b[0m \u001b[32m━━━━━━━━━━━━━━━━━━━━\u001b[0m\u001b[37m\u001b[0m \u001b[1m0s\u001b[0m 77ms/step - accuracy: 0.7063 - loss: 1.0382 - val_accuracy: 0.6000 - val_loss: 1.1782\n",
      "Epoch 13/40\n",
      "\u001b[1m2/2\u001b[0m \u001b[32m━━━━━━━━━━━━━━━━━━━━\u001b[0m\u001b[37m\u001b[0m \u001b[1m0s\u001b[0m 62ms/step - accuracy: 0.7333 - loss: 0.9522 - val_accuracy: 0.7000 - val_loss: 1.1049\n",
      "Epoch 14/40\n",
      "\u001b[1m2/2\u001b[0m \u001b[32m━━━━━━━━━━━━━━━━━━━━\u001b[0m\u001b[37m\u001b[0m \u001b[1m0s\u001b[0m 68ms/step - accuracy: 0.7667 - loss: 0.8958 - val_accuracy: 0.9000 - val_loss: 1.0270\n",
      "Epoch 15/40\n",
      "\u001b[1m2/2\u001b[0m \u001b[32m━━━━━━━━━━━━━━━━━━━━\u001b[0m\u001b[37m\u001b[0m \u001b[1m0s\u001b[0m 74ms/step - accuracy: 0.8042 - loss: 0.8371 - val_accuracy: 0.9000 - val_loss: 0.9503\n",
      "Epoch 16/40\n",
      "\u001b[1m2/2\u001b[0m \u001b[32m━━━━━━━━━━━━━━━━━━━━\u001b[0m\u001b[37m\u001b[0m \u001b[1m0s\u001b[0m 74ms/step - accuracy: 0.8146 - loss: 0.7573 - val_accuracy: 0.9000 - val_loss: 0.8770\n",
      "Epoch 17/40\n",
      "\u001b[1m2/2\u001b[0m \u001b[32m━━━━━━━━━━━━━━━━━━━━\u001b[0m\u001b[37m\u001b[0m \u001b[1m0s\u001b[0m 66ms/step - accuracy: 0.8375 - loss: 0.6929 - val_accuracy: 0.9000 - val_loss: 0.8053\n",
      "Epoch 18/40\n",
      "\u001b[1m2/2\u001b[0m \u001b[32m━━━━━━━━━━━━━━━━━━━━\u001b[0m\u001b[37m\u001b[0m \u001b[1m0s\u001b[0m 69ms/step - accuracy: 0.8646 - loss: 0.6392 - val_accuracy: 0.9000 - val_loss: 0.7386\n",
      "Epoch 19/40\n",
      "\u001b[1m2/2\u001b[0m \u001b[32m━━━━━━━━━━━━━━━━━━━━\u001b[0m\u001b[37m\u001b[0m \u001b[1m0s\u001b[0m 62ms/step - accuracy: 0.9187 - loss: 0.5668 - val_accuracy: 1.0000 - val_loss: 0.6735\n",
      "Epoch 20/40\n",
      "\u001b[1m2/2\u001b[0m \u001b[32m━━━━━━━━━━━━━━━━━━━━\u001b[0m\u001b[37m\u001b[0m \u001b[1m0s\u001b[0m 63ms/step - accuracy: 0.9563 - loss: 0.4804 - val_accuracy: 1.0000 - val_loss: 0.6163\n",
      "Epoch 21/40\n",
      "\u001b[1m2/2\u001b[0m \u001b[32m━━━━━━━━━━━━━━━━━━━━\u001b[0m\u001b[37m\u001b[0m \u001b[1m0s\u001b[0m 63ms/step - accuracy: 1.0000 - loss: 0.4316 - val_accuracy: 1.0000 - val_loss: 0.5573\n",
      "Epoch 22/40\n",
      "\u001b[1m2/2\u001b[0m \u001b[32m━━━━━━━━━━━━━━━━━━━━\u001b[0m\u001b[37m\u001b[0m \u001b[1m0s\u001b[0m 69ms/step - accuracy: 1.0000 - loss: 0.3628 - val_accuracy: 0.9000 - val_loss: 0.5015\n",
      "Epoch 23/40\n",
      "\u001b[1m2/2\u001b[0m \u001b[32m━━━━━━━━━━━━━━━━━━━━\u001b[0m\u001b[37m\u001b[0m \u001b[1m0s\u001b[0m 67ms/step - accuracy: 1.0000 - loss: 0.3181 - val_accuracy: 0.9000 - val_loss: 0.4591\n",
      "Epoch 24/40\n",
      "\u001b[1m2/2\u001b[0m \u001b[32m━━━━━━━━━━━━━━━━━━━━\u001b[0m\u001b[37m\u001b[0m \u001b[1m0s\u001b[0m 63ms/step - accuracy: 0.9729 - loss: 0.2729 - val_accuracy: 0.9000 - val_loss: 0.4218\n",
      "Epoch 25/40\n",
      "\u001b[1m2/2\u001b[0m \u001b[32m━━━━━━━━━━━━━━━━━━━━\u001b[0m\u001b[37m\u001b[0m \u001b[1m0s\u001b[0m 81ms/step - accuracy: 0.9833 - loss: 0.2226 - val_accuracy: 0.9000 - val_loss: 0.3656\n",
      "Epoch 26/40\n",
      "\u001b[1m2/2\u001b[0m \u001b[32m━━━━━━━━━━━━━━━━━━━━\u001b[0m\u001b[37m\u001b[0m \u001b[1m0s\u001b[0m 69ms/step - accuracy: 0.9729 - loss: 0.2019 - val_accuracy: 0.9000 - val_loss: 0.2962\n",
      "Epoch 27/40\n",
      "\u001b[1m2/2\u001b[0m \u001b[32m━━━━━━━━━━━━━━━━━━━━\u001b[0m\u001b[37m\u001b[0m \u001b[1m0s\u001b[0m 66ms/step - accuracy: 1.0000 - loss: 0.1622 - val_accuracy: 1.0000 - val_loss: 0.2433\n",
      "Epoch 28/40\n",
      "\u001b[1m2/2\u001b[0m \u001b[32m━━━━━━━━━━━━━━━━━━━━\u001b[0m\u001b[37m\u001b[0m \u001b[1m0s\u001b[0m 65ms/step - accuracy: 1.0000 - loss: 0.1429 - val_accuracy: 1.0000 - val_loss: 0.2043\n",
      "Epoch 29/40\n",
      "\u001b[1m2/2\u001b[0m \u001b[32m━━━━━━━━━━━━━━━━━━━━\u001b[0m\u001b[37m\u001b[0m \u001b[1m0s\u001b[0m 68ms/step - accuracy: 1.0000 - loss: 0.1304 - val_accuracy: 1.0000 - val_loss: 0.1761\n",
      "Epoch 30/40\n",
      "\u001b[1m2/2\u001b[0m \u001b[32m━━━━━━━━━━━━━━━━━━━━\u001b[0m\u001b[37m\u001b[0m \u001b[1m0s\u001b[0m 75ms/step - accuracy: 1.0000 - loss: 0.1168 - val_accuracy: 1.0000 - val_loss: 0.1583\n",
      "Epoch 31/40\n",
      "\u001b[1m2/2\u001b[0m \u001b[32m━━━━━━━━━━━━━━━━━━━━\u001b[0m\u001b[37m\u001b[0m \u001b[1m0s\u001b[0m 76ms/step - accuracy: 1.0000 - loss: 0.0959 - val_accuracy: 1.0000 - val_loss: 0.1511\n",
      "Epoch 32/40\n",
      "\u001b[1m2/2\u001b[0m \u001b[32m━━━━━━━━━━━━━━━━━━━━\u001b[0m\u001b[37m\u001b[0m \u001b[1m0s\u001b[0m 70ms/step - accuracy: 1.0000 - loss: 0.0828 - val_accuracy: 1.0000 - val_loss: 0.1524\n",
      "Epoch 33/40\n",
      "\u001b[1m2/2\u001b[0m \u001b[32m━━━━━━━━━━━━━━━━━━━━\u001b[0m\u001b[37m\u001b[0m \u001b[1m0s\u001b[0m 72ms/step - accuracy: 1.0000 - loss: 0.0675 - val_accuracy: 1.0000 - val_loss: 0.1474\n",
      "Epoch 34/40\n",
      "\u001b[1m2/2\u001b[0m \u001b[32m━━━━━━━━━━━━━━━━━━━━\u001b[0m\u001b[37m\u001b[0m \u001b[1m0s\u001b[0m 65ms/step - accuracy: 1.0000 - loss: 0.0615 - val_accuracy: 1.0000 - val_loss: 0.1319\n",
      "Epoch 35/40\n",
      "\u001b[1m2/2\u001b[0m \u001b[32m━━━━━━━━━━━━━━━━━━━━\u001b[0m\u001b[37m\u001b[0m \u001b[1m0s\u001b[0m 67ms/step - accuracy: 1.0000 - loss: 0.0525 - val_accuracy: 1.0000 - val_loss: 0.1191\n",
      "Epoch 36/40\n",
      "\u001b[1m2/2\u001b[0m \u001b[32m━━━━━━━━━━━━━━━━━━━━\u001b[0m\u001b[37m\u001b[0m \u001b[1m0s\u001b[0m 69ms/step - accuracy: 1.0000 - loss: 0.0478 - val_accuracy: 1.0000 - val_loss: 0.1121\n",
      "Epoch 37/40\n",
      "\u001b[1m2/2\u001b[0m \u001b[32m━━━━━━━━━━━━━━━━━━━━\u001b[0m\u001b[37m\u001b[0m \u001b[1m0s\u001b[0m 71ms/step - accuracy: 1.0000 - loss: 0.0410 - val_accuracy: 1.0000 - val_loss: 0.1098\n",
      "Epoch 38/40\n",
      "\u001b[1m2/2\u001b[0m \u001b[32m━━━━━━━━━━━━━━━━━━━━\u001b[0m\u001b[37m\u001b[0m \u001b[1m0s\u001b[0m 67ms/step - accuracy: 1.0000 - loss: 0.0412 - val_accuracy: 1.0000 - val_loss: 0.1077\n",
      "Epoch 39/40\n",
      "\u001b[1m2/2\u001b[0m \u001b[32m━━━━━━━━━━━━━━━━━━━━\u001b[0m\u001b[37m\u001b[0m \u001b[1m0s\u001b[0m 69ms/step - accuracy: 1.0000 - loss: 0.0364 - val_accuracy: 1.0000 - val_loss: 0.1064\n",
      "Epoch 40/40\n",
      "\u001b[1m2/2\u001b[0m \u001b[32m━━━━━━━━━━━━━━━━━━━━\u001b[0m\u001b[37m\u001b[0m \u001b[1m0s\u001b[0m 67ms/step - accuracy: 1.0000 - loss: 0.0332 - val_accuracy: 1.0000 - val_loss: 0.1051\n",
      "\u001b[1m1/1\u001b[0m \u001b[32m━━━━━━━━━━━━━━━━━━━━\u001b[0m\u001b[37m\u001b[0m \u001b[1m0s\u001b[0m 39ms/step - accuracy: 1.0000 - loss: 0.1051\n",
      "Test accuracy: 1.0\n"
     ]
    }
   ],
   "source": [
    "import os\n",
    "import json\n",
    "import numpy as np\n",
    "import tensorflow as tf\n",
    "from tensorflow import keras\n",
    "from PIL import Image, ImageDraw\n",
    "from sklearn.model_selection import train_test_split\n",
    "import matplotlib.pyplot as plt\n",
    "\n",
    "# -------------------------------\n",
    "# Parameters\n",
    "# -------------------------------\n",
    "TARGET_SIZE = 32    # Reduced output image dimensions (32x32) for a smaller model.\n",
    "ORIGINAL_SIZE = 240 # Original touchscreen coordinate space (240x240)\n",
    "DATA_DIR = \"touch_samples\"  # Root folder containing subfolders for each class (B, L, I, T, Z)\n",
    "CLASSES = ['B', 'L', 'I', 'T', 'Z']\n",
    "label_map = {cls: i for i, cls in enumerate(CLASSES)}\n",
    "\n",
    "# -------------------------------\n",
    "# Functions for Loading Samples\n",
    "# -------------------------------\n",
    "\n",
    "def load_sample(file_path, original_size=ORIGINAL_SIZE, target_size=TARGET_SIZE):\n",
    "    \"\"\"\n",
    "    Load a JSON file containing touch points drawn on a 240x240 LCD,\n",
    "    then scale the coordinates to the target image size without distortion.\n",
    "    Returns a grayscale image as a NumPy array of shape (target_size, target_size).\n",
    "    \"\"\"\n",
    "    with open(file_path, 'r') as f:\n",
    "        data = json.load(f)\n",
    "    \n",
    "    # Extract (x, y) coordinates.\n",
    "    points = [(point[\"x\"], point[\"y\"]) for point in data if \"x\" in point and \"y\" in point]\n",
    "    if not points:\n",
    "        return np.zeros((target_size, target_size), dtype=np.uint8)\n",
    "    \n",
    "    # Scale points directly from 240 to the target size.\n",
    "    scale = (target_size - 1) / original_size\n",
    "    scaled_points = [(p[0] * scale, p[1] * scale) for p in points]\n",
    "    \n",
    "    # Create a blank grayscale image and draw the touch stroke.\n",
    "    img = Image.new('L', (target_size, target_size), 0)\n",
    "    draw = ImageDraw.Draw(img)\n",
    "    if len(scaled_points) > 1:\n",
    "        draw.line(scaled_points, fill=255, width=1)\n",
    "    else:\n",
    "        x, y = scaled_points[0]\n",
    "        draw.ellipse((x - 1, y - 1, x + 1, y + 1), fill=255)\n",
    "    return np.array(img)\n",
    "\n",
    "def load_dataset(root_dir):\n",
    "    \"\"\"\n",
    "    Walk through the directory structure under root_dir. Each subfolder corresponds\n",
    "    to a class label (B, L, I, T, Z) and contains JSON files. Converts each JSON file\n",
    "    to a scaled image using load_sample().\n",
    "    \n",
    "    Returns:\n",
    "        images: NumPy array of shape (num_samples, TARGET_SIZE, TARGET_SIZE, 1)\n",
    "        labels: NumPy array of integer labels corresponding to each class.\n",
    "    \"\"\"\n",
    "    images = []\n",
    "    labels = []\n",
    "    for cls in CLASSES:\n",
    "        class_dir = os.path.join(root_dir, cls)\n",
    "        if not os.path.exists(class_dir):\n",
    "            print(f\"Warning: Directory '{class_dir}' does not exist.\")\n",
    "            continue\n",
    "        for file_name in os.listdir(class_dir):\n",
    "            if file_name.endswith('.json'):\n",
    "                file_path = os.path.join(class_dir, file_name)\n",
    "                img = load_sample(file_path)\n",
    "                images.append(img)\n",
    "                labels.append(label_map[cls])\n",
    "    \n",
    "    images = np.array(images)\n",
    "    labels = np.array(labels)\n",
    "    # Expand dimensions for CNN input and normalize pixel values to [0, 1].\n",
    "    images = np.expand_dims(images, -1).astype('float32') / 255.0\n",
    "    return images, labels\n",
    "\n",
    "# -------------------------------\n",
    "# Load and Prepare the Dataset\n",
    "# -------------------------------\n",
    "\n",
    "X, y = load_dataset(DATA_DIR)\n",
    "print(\"Dataset loaded:\")\n",
    "print(\"X shape:\", X.shape)\n",
    "print(\"y shape:\", y.shape)\n",
    "\n",
    "# Split into training and testing sets (80% train, 20% test)\n",
    "X_train, X_test, y_train, y_test = train_test_split(X, y, test_size=0.2, random_state=42)\n",
    "\n",
    "# -------------------------------\n",
    "# Define a Small CNN Model\n",
    "# -------------------------------\n",
    "model = keras.Sequential([\n",
    "    keras.layers.Input(shape=(TARGET_SIZE, TARGET_SIZE, 1)),\n",
    "    keras.layers.Conv2D(8, (3, 3), activation='relu', padding='same'),\n",
    "    keras.layers.MaxPooling2D((2, 2)),\n",
    "    keras.layers.Conv2D(16, (3, 3), activation='relu', padding='same'),\n",
    "    keras.layers.MaxPooling2D((2, 2)),\n",
    "    keras.layers.Flatten(),\n",
    "    keras.layers.Dense(32, activation='relu'),\n",
    "    keras.layers.Dense(len(CLASSES), activation='softmax')\n",
    "])\n",
    "\n",
    "model.compile(optimizer='adam',\n",
    "              loss='sparse_categorical_crossentropy',\n",
    "              metrics=['accuracy'])\n",
    "\n",
    "model.summary()\n",
    "\n",
    "# -------------------------------\n",
    "# Train the Model\n",
    "# -------------------------------\n",
    "EPOCHS = 40  # Adjust epochs as needed\n",
    "history = model.fit(X_train, y_train, epochs=EPOCHS, validation_data=(X_test, y_test))\n",
    "\n",
    "loss, accuracy = model.evaluate(X_test, y_test)\n",
    "print(\"Test accuracy:\", accuracy)"
   ]
  },
  {
   "cell_type": "code",
   "execution_count": 14,
   "id": "26d5df32-540c-47fa-a002-f581872224b2",
   "metadata": {},
   "outputs": [
    {
     "name": "stdout",
     "output_type": "stream",
     "text": [
      "\u001b[1m1/1\u001b[0m \u001b[32m━━━━━━━━━━━━━━━━━━━━\u001b[0m\u001b[37m\u001b[0m \u001b[1m0s\u001b[0m 79ms/step\n"
     ]
    },
    {
     "data": {
      "image/png": "[encoded data removed]",
      "text/plain": [
       "<Figure size 640x480 with 1 Axes>"
      ]
     },
     "metadata": {},
     "output_type": "display_data"
    },
    {
     "name": "stdout",
     "output_type": "stream",
     "text": [
      "\u001b[1m1/1\u001b[0m \u001b[32m━━━━━━━━━━━━━━━━━━━━\u001b[0m\u001b[37m\u001b[0m \u001b[1m0s\u001b[0m 37ms/step\n"
     ]
    },
    {
     "data": {
      "image/png": "[encoded data removed]",
      "text/plain": [
       "<Figure size 640x480 with 1 Axes>"
      ]
     },
     "metadata": {},
     "output_type": "display_data"
    },
    {
     "name": "stdout",
     "output_type": "stream",
     "text": [
      "\u001b[1m1/1\u001b[0m \u001b[32m━━━━━━━━━━━━━━━━━━━━\u001b[0m\u001b[37m\u001b[0m \u001b[1m0s\u001b[0m 36ms/step\n"
     ]
    },
    {
     "data": {
      "image/png": "[encoded data removed]",
      "text/plain": [
       "<Figure size 640x480 with 1 Axes>"
      ]
     },
     "metadata": {},
     "output_type": "display_data"
    },
    {
     "name": "stdout",
     "output_type": "stream",
     "text": [
      "\u001b[1m1/1\u001b[0m \u001b[32m━━━━━━━━━━━━━━━━━━━━\u001b[0m\u001b[37m\u001b[0m \u001b[1m0s\u001b[0m 35ms/step\n"
     ]
    },
    {
     "data": {
      "image/png": "[encoded data removed]",
      "text/plain": [
       "<Figure size 640x480 with 1 Axes>"
      ]
     },
     "metadata": {},
     "output_type": "display_data"
    },
    {
     "name": "stdout",
     "output_type": "stream",
     "text": [
      "\u001b[1m1/1\u001b[0m \u001b[32m━━━━━━━━━━━━━━━━━━━━\u001b[0m\u001b[37m\u001b[0m \u001b[1m0s\u001b[0m 36ms/step\n"
     ]
    },
    {
     "data": {
      "image/png": "[encoded data removed]",
      "text/plain": [
       "<Figure size 640x480 with 1 Axes>"
      ]
     },
     "metadata": {},
     "output_type": "display_data"
    }
   ],
   "source": [
    "# Check some results of the Model\n",
    "num_display = min(5, len(X_test))\n",
    "for i in range(num_display):\n",
    "    sample = X_test[i].reshape(1, TARGET_SIZE, TARGET_SIZE, 1)  # Reshape for model input\n",
    "    prediction = model.predict(sample)\n",
    "    predicted_label = CLASSES[np.argmax(prediction)]\n",
    "\n",
    "    plt.imshow(X_test[i].reshape(TARGET_SIZE, TARGET_SIZE), cmap='gray')\n",
    "    plt.title(f\"True: {CLASSES[y_test[i]]}, Predicted: {predicted_label}\")\n",
    "    plt.axis('off')\n",
    "    plt.show()"
   ]
  },
  {
   "cell_type": "markdown",
   "id": "274cea7e-cc54-4edd-90f1-8c711b218648",
   "metadata": {},
   "source": [
    "## TFLite\n",
    "\n",
    "Now let us convert the model into a tensorflow lite format and test out a few samples"
   ]
  },
  {
   "cell_type": "code",
   "execution_count": 15,
   "id": "42f6c8a1-817d-4cb0-8b13-dc6fa2de9b81",
   "metadata": {},
   "outputs": [
    {
     "name": "stdout",
     "output_type": "stream",
     "text": [
      "INFO:tensorflow:Assets written to: /tmp/tmpfl4jpzrr/assets\n"
     ]
    },
    {
     "name": "stderr",
     "output_type": "stream",
     "text": [
      "INFO:tensorflow:Assets written to: /tmp/tmpfl4jpzrr/assets\n"
     ]
    },
    {
     "name": "stdout",
     "output_type": "stream",
     "text": [
      "Saved artifact at '/tmp/tmpfl4jpzrr'. The following endpoints are available:\n",
      "\n",
      "* Endpoint 'serve'\n",
      "  args_0 (POSITIONAL_ONLY): TensorSpec(shape=(None, 32, 32, 1), dtype=tf.float32, name='keras_tensor_18')\n",
      "Output Type:\n",
      "  TensorSpec(shape=(None, 5), dtype=tf.float32, name=None)\n",
      "Captures:\n",
      "  136532895345040: TensorSpec(shape=(), dtype=tf.resource, name=None)\n",
      "  136532895349840: TensorSpec(shape=(), dtype=tf.resource, name=None)\n",
      "  136532895350032: TensorSpec(shape=(), dtype=tf.resource, name=None)\n",
      "  136532895344848: TensorSpec(shape=(), dtype=tf.resource, name=None)\n",
      "  136532895350224: TensorSpec(shape=(), dtype=tf.resource, name=None)\n",
      "  136532895344464: TensorSpec(shape=(), dtype=tf.resource, name=None)\n",
      "  136532895344272: TensorSpec(shape=(), dtype=tf.resource, name=None)\n",
      "  136532895347728: TensorSpec(shape=(), dtype=tf.resource, name=None)\n"
     ]
    },
    {
     "name": "stderr",
     "output_type": "stream",
     "text": [
      "W0000 00:00:1739626627.468425    4067 tf_tfl_flatbuffer_helpers.cc:365] Ignored output_format.\n",
      "W0000 00:00:1739626627.468440    4067 tf_tfl_flatbuffer_helpers.cc:368] Ignored drop_control_dependency.\n",
      "2025-02-15 17:37:07.468591: I tensorflow/cc/saved_model/reader.cc:83] Reading SavedModel from: /tmp/tmpfl4jpzrr\n",
      "2025-02-15 17:37:07.469036: I tensorflow/cc/saved_model/reader.cc:52] Reading meta graph with tags { serve }\n",
      "2025-02-15 17:37:07.469047: I tensorflow/cc/saved_model/reader.cc:147] Reading SavedModel debug info (if present) from: /tmp/tmpfl4jpzrr\n",
      "2025-02-15 17:37:07.474006: I tensorflow/cc/saved_model/loader.cc:236] Restoring SavedModel bundle.\n",
      "2025-02-15 17:37:07.507670: I tensorflow/cc/saved_model/loader.cc:220] Running initialization op on SavedModel bundle at path: /tmp/tmpfl4jpzrr\n",
      "2025-02-15 17:37:07.516591: I tensorflow/cc/saved_model/loader.cc:466] SavedModel load for tags { serve }; Status: success: OK. Took 48002 microseconds.\n"
     ]
    },
    {
     "name": "stdout",
     "output_type": "stream",
     "text": [
      "Model successfully saved as model.tflite\n"
     ]
    }
   ],
   "source": [
    "import tensorflow as tf\n",
    "\n",
    "# Convert the model to TensorFlow Lite format\n",
    "converter = tf.lite.TFLiteConverter.from_keras_model(model)\n",
    "tflite_model = converter.convert()\n",
    "\n",
    "# Save the model to a file\n",
    "tflite_model_path = \"model.tflite\"\n",
    "with open(tflite_model_path, \"wb\") as f:\n",
    "    f.write(tflite_model)\n",
    "\n",
    "print(f\"Model successfully saved as {tflite_model_path}\")\n"
   ]
  },
  {
   "cell_type": "code",
   "execution_count": 16,
   "id": "4d4c21e1-f675-433c-a86e-32ec1bc7221d",
   "metadata": {},
   "outputs": [
    {
     "name": "stdout",
     "output_type": "stream",
     "text": [
      "Sample 1: Predicted label: L, True label: L\n",
      "Sample 2: Predicted label: T, True label: T\n",
      "Sample 3: Predicted label: T, True label: T\n",
      "Sample 4: Predicted label: Z, True label: Z\n",
      "Sample 5: Predicted label: L, True label: L\n"
     ]
    }
   ],
   "source": [
    "# Load the TFLite model\n",
    "interpreter = tf.lite.Interpreter(model_path=tflite_model_path)\n",
    "interpreter.allocate_tensors()\n",
    "\n",
    "# Get input and output tensor details\n",
    "input_details = interpreter.get_input_details()\n",
    "output_details = interpreter.get_output_details()\n",
    "\n",
    "# Test with 5 samples\n",
    "num_samples = min(5, len(X_test))\n",
    "\n",
    "for i in range(num_samples):\n",
    "    sample_input = X_test[i].reshape(1, TARGET_SIZE, TARGET_SIZE, 1).astype(np.float32)\n",
    "    interpreter.set_tensor(input_details[0]['index'], sample_input)\n",
    "    interpreter.invoke()\n",
    "\n",
    "    # Get the predicted output\n",
    "    output_data = interpreter.get_tensor(output_details[0]['index'])\n",
    "    predicted_label = CLASSES[np.argmax(output_data)]\n",
    "\n",
    "    print(f\"Sample {i+1}: Predicted label: {predicted_label}, True label: {CLASSES[y_test[i]]}\")\n"
   ]
  }
 ],
 "metadata": {
  "kernelspec": {
   "display_name": "Python 3 (ipykernel)",
   "language": "python",
   "name": "python3"
  },
  "language_info": {
   "codemirror_mode": {
    "name": "ipython",
    "version": 3
   },
   "file_extension": ".py",
   "mimetype": "text/x-python",
   "name": "python",
   "nbconvert_exporter": "python",
   "pygments_lexer": "ipython3",
   "version": "3.12.4"
  }
 },
 "nbformat": 4,
 "nbformat_minor": 5
}
